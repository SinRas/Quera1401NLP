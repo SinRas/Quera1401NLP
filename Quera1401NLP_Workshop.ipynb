{
  "nbformat": 4,
  "nbformat_minor": 0,
  "metadata": {
    "colab": {
      "name": "Quera1401NLP-Workshop.ipynb",
      "provenance": [],
      "collapsed_sections": []
    },
    "kernelspec": {
      "name": "python3",
      "display_name": "Python 3"
    },
    "language_info": {
      "name": "python"
    }
  },
  "cells": [
    {
      "cell_type": "markdown",
      "source": [
        "# Quera1401NLP\n",
        "In this notebook we are going to practice some of the concepts presented in the lectures.\n",
        "\n",
        "For more information you can go to the following repository where a copy of this notebook is also present.\n",
        "\n",
        "https://github.com/SinRas/Quera1401NLP"
      ],
      "metadata": {
        "id": "RfgWm5eytE3H"
      }
    },
    {
      "cell_type": "markdown",
      "source": [
        "# Modules"
      ],
      "metadata": {
        "id": "3SciDWZotY0I"
      }
    },
    {
      "cell_type": "markdown",
      "source": [
        "## Hazm Module\n",
        "[Hazm](https://www.sobhe.ir/hazm/) is a `Persian Natural Language Processing Toolkit` based on `nltk` package.\n",
        "\n",
        "\n",
        "[Hazm Normalizer](https://www.sobhe.ir/hazm/docs/hazm.html#module-hazm.Normalizer): Normalize the text characters, digits, spacing and verbs.\n",
        "\n",
        "\n",
        "[Hazm Lemmatizer](https://www.sobhe.ir/hazm/docs/hazm.html#module-hazm.Lemmatizer): Convert the word and verbs to its stems."
      ],
      "metadata": {
        "id": "bCImJ5iHB8_B"
      }
    },
    {
      "cell_type": "code",
      "source": [
        "!pip install hazm\n",
        "\n",
        "# Data Manipulation\n",
        "import pandas as pd\n",
        "import numpy as np\n",
        "\n",
        "# Scikit-Learn\n",
        "from sklearn.model_selection import train_test_split\n",
        "from sklearn.metrics import confusion_matrix, balanced_accuracy_score, accuracy_score\n",
        "from sklearn.feature_extraction.text import CountVectorizer"
      ],
      "metadata": {
        "id": "60yC4lyytWmA"
      },
      "execution_count": null,
      "outputs": []
    },
    {
      "cell_type": "markdown",
      "source": [
        "# Methods"
      ],
      "metadata": {
        "id": "woh7Wk0wufhL"
      }
    },
    {
      "cell_type": "code",
      "source": [
        "def get_metrics(y_true, y_pred):\n",
        "  return {\n",
        "      'accuracy': accuracy_score(y_true, y_pred),\n",
        "      'balance_accuracy': balanced_accuracy_score(y_true, y_pred),\n",
        "      'confusion_matrix': confusion_matrix(y_true, y_pred)\n",
        "    }"
      ],
      "metadata": {
        "id": "VmGbowilufGi"
      },
      "execution_count": null,
      "outputs": []
    },
    {
      "cell_type": "markdown",
      "source": [
        "# Load Data"
      ],
      "metadata": {
        "id": "-8xp8UJ6uXRs"
      }
    },
    {
      "cell_type": "code",
      "source": [
        "df = pd.read_csv('https://github.com/SinRas/Quera1401NLP/blob/main/sentipers.csv?raw=true')\n",
        "df_train, df_test = train_test_split(df, random_state=13)"
      ],
      "metadata": {
        "id": "Jsfz39eTuWsX"
      },
      "execution_count": null,
      "outputs": []
    },
    {
      "cell_type": "code",
      "source": [
        "df.head(5)"
      ],
      "metadata": {
        "colab": {
          "base_uri": "https://localhost:8080/",
          "height": 206
        },
        "id": "_06iOcqJuvcU",
        "outputId": "8d6bdd95-1b0d-450c-f47f-2bf3bf3c47d2"
      },
      "execution_count": null,
      "outputs": [
        {
          "output_type": "execute_result",
          "data": {
            "text/plain": [
              "   id                                               text  label\n",
              "0   0  اینک قصد داریم پرینتر دیگری از پرینترهای لیزری...      0\n",
              "1   1  پرینتری چند کاره از رده‌ی Entry Level یا سطح م...      0\n",
              "2   2  به هر صورت اکنون ما در دنیایی زندگی می‌کنیم،  ...      0\n",
              "3   3  به صورتی که توانایی کپی کردن،  اسکن،  فکس،  پر...      0\n",
              "4   4  به هر صورت معمولا چیزی که بیشتر کاربران از پری...      1"
            ],
            "text/html": [
              "\n",
              "  <div id=\"df-e6197fed-aa2e-43a7-86d4-fbbdd054d9c9\">\n",
              "    <div class=\"colab-df-container\">\n",
              "      <div>\n",
              "<style scoped>\n",
              "    .dataframe tbody tr th:only-of-type {\n",
              "        vertical-align: middle;\n",
              "    }\n",
              "\n",
              "    .dataframe tbody tr th {\n",
              "        vertical-align: top;\n",
              "    }\n",
              "\n",
              "    .dataframe thead th {\n",
              "        text-align: right;\n",
              "    }\n",
              "</style>\n",
              "<table border=\"1\" class=\"dataframe\">\n",
              "  <thead>\n",
              "    <tr style=\"text-align: right;\">\n",
              "      <th></th>\n",
              "      <th>id</th>\n",
              "      <th>text</th>\n",
              "      <th>label</th>\n",
              "    </tr>\n",
              "  </thead>\n",
              "  <tbody>\n",
              "    <tr>\n",
              "      <th>0</th>\n",
              "      <td>0</td>\n",
              "      <td>اینک قصد داریم پرینتر دیگری از پرینترهای لیزری...</td>\n",
              "      <td>0</td>\n",
              "    </tr>\n",
              "    <tr>\n",
              "      <th>1</th>\n",
              "      <td>1</td>\n",
              "      <td>پرینتری چند کاره از رده‌ی Entry Level یا سطح م...</td>\n",
              "      <td>0</td>\n",
              "    </tr>\n",
              "    <tr>\n",
              "      <th>2</th>\n",
              "      <td>2</td>\n",
              "      <td>به هر صورت اکنون ما در دنیایی زندگی می‌کنیم،  ...</td>\n",
              "      <td>0</td>\n",
              "    </tr>\n",
              "    <tr>\n",
              "      <th>3</th>\n",
              "      <td>3</td>\n",
              "      <td>به صورتی که توانایی کپی کردن،  اسکن،  فکس،  پر...</td>\n",
              "      <td>0</td>\n",
              "    </tr>\n",
              "    <tr>\n",
              "      <th>4</th>\n",
              "      <td>4</td>\n",
              "      <td>به هر صورت معمولا چیزی که بیشتر کاربران از پری...</td>\n",
              "      <td>1</td>\n",
              "    </tr>\n",
              "  </tbody>\n",
              "</table>\n",
              "</div>\n",
              "      <button class=\"colab-df-convert\" onclick=\"convertToInteractive('df-e6197fed-aa2e-43a7-86d4-fbbdd054d9c9')\"\n",
              "              title=\"Convert this dataframe to an interactive table.\"\n",
              "              style=\"display:none;\">\n",
              "        \n",
              "  <svg xmlns=\"http://www.w3.org/2000/svg\" height=\"24px\"viewBox=\"0 0 24 24\"\n",
              "       width=\"24px\">\n",
              "    <path d=\"M0 0h24v24H0V0z\" fill=\"none\"/>\n",
              "    <path d=\"M18.56 5.44l.94 2.06.94-2.06 2.06-.94-2.06-.94-.94-2.06-.94 2.06-2.06.94zm-11 1L8.5 8.5l.94-2.06 2.06-.94-2.06-.94L8.5 2.5l-.94 2.06-2.06.94zm10 10l.94 2.06.94-2.06 2.06-.94-2.06-.94-.94-2.06-.94 2.06-2.06.94z\"/><path d=\"M17.41 7.96l-1.37-1.37c-.4-.4-.92-.59-1.43-.59-.52 0-1.04.2-1.43.59L10.3 9.45l-7.72 7.72c-.78.78-.78 2.05 0 2.83L4 21.41c.39.39.9.59 1.41.59.51 0 1.02-.2 1.41-.59l7.78-7.78 2.81-2.81c.8-.78.8-2.07 0-2.86zM5.41 20L4 18.59l7.72-7.72 1.47 1.35L5.41 20z\"/>\n",
              "  </svg>\n",
              "      </button>\n",
              "      \n",
              "  <style>\n",
              "    .colab-df-container {\n",
              "      display:flex;\n",
              "      flex-wrap:wrap;\n",
              "      gap: 12px;\n",
              "    }\n",
              "\n",
              "    .colab-df-convert {\n",
              "      background-color: #E8F0FE;\n",
              "      border: none;\n",
              "      border-radius: 50%;\n",
              "      cursor: pointer;\n",
              "      display: none;\n",
              "      fill: #1967D2;\n",
              "      height: 32px;\n",
              "      padding: 0 0 0 0;\n",
              "      width: 32px;\n",
              "    }\n",
              "\n",
              "    .colab-df-convert:hover {\n",
              "      background-color: #E2EBFA;\n",
              "      box-shadow: 0px 1px 2px rgba(60, 64, 67, 0.3), 0px 1px 3px 1px rgba(60, 64, 67, 0.15);\n",
              "      fill: #174EA6;\n",
              "    }\n",
              "\n",
              "    [theme=dark] .colab-df-convert {\n",
              "      background-color: #3B4455;\n",
              "      fill: #D2E3FC;\n",
              "    }\n",
              "\n",
              "    [theme=dark] .colab-df-convert:hover {\n",
              "      background-color: #434B5C;\n",
              "      box-shadow: 0px 1px 3px 1px rgba(0, 0, 0, 0.15);\n",
              "      filter: drop-shadow(0px 1px 2px rgba(0, 0, 0, 0.3));\n",
              "      fill: #FFFFFF;\n",
              "    }\n",
              "  </style>\n",
              "\n",
              "      <script>\n",
              "        const buttonEl =\n",
              "          document.querySelector('#df-e6197fed-aa2e-43a7-86d4-fbbdd054d9c9 button.colab-df-convert');\n",
              "        buttonEl.style.display =\n",
              "          google.colab.kernel.accessAllowed ? 'block' : 'none';\n",
              "\n",
              "        async function convertToInteractive(key) {\n",
              "          const element = document.querySelector('#df-e6197fed-aa2e-43a7-86d4-fbbdd054d9c9');\n",
              "          const dataTable =\n",
              "            await google.colab.kernel.invokeFunction('convertToInteractive',\n",
              "                                                     [key], {});\n",
              "          if (!dataTable) return;\n",
              "\n",
              "          const docLinkHtml = 'Like what you see? Visit the ' +\n",
              "            '<a target=\"_blank\" href=https://colab.research.google.com/notebooks/data_table.ipynb>data table notebook</a>'\n",
              "            + ' to learn more about interactive tables.';\n",
              "          element.innerHTML = '';\n",
              "          dataTable['output_type'] = 'display_data';\n",
              "          await google.colab.output.renderOutput(dataTable, element);\n",
              "          const docLink = document.createElement('div');\n",
              "          docLink.innerHTML = docLinkHtml;\n",
              "          element.appendChild(docLink);\n",
              "        }\n",
              "      </script>\n",
              "    </div>\n",
              "  </div>\n",
              "  "
            ]
          },
          "metadata": {},
          "execution_count": 5
        }
      ]
    },
    {
      "cell_type": "code",
      "source": [
        "df.groupby(['label']).size()"
      ],
      "metadata": {
        "id": "10Hlr8nFBQV8",
        "outputId": "0ececbd4-a9ea-42d5-bb1c-67f7b51c4d3b",
        "colab": {
          "base_uri": "https://localhost:8080/"
        }
      },
      "execution_count": null,
      "outputs": [
        {
          "output_type": "execute_result",
          "data": {
            "text/plain": [
              "label\n",
              "-2     212\n",
              "-1    1574\n",
              " 0    5938\n",
              " 1    5019\n",
              " 2    2940\n",
              "dtype: int64"
            ]
          },
          "metadata": {},
          "execution_count": 4
        }
      ]
    },
    {
      "cell_type": "markdown",
      "source": [
        "# Text Preprocessing"
      ],
      "metadata": {
        "id": "2jq_48bcvBB0"
      }
    },
    {
      "cell_type": "code",
      "source": [
        "# PREPROCESS THE TEXT BEFORE FITTING MODEL\n",
        "X_train, y_train = ...\n",
        "X_test, y_test = ..."
      ],
      "metadata": {
        "id": "yYET_pVwvAt3"
      },
      "execution_count": null,
      "outputs": []
    },
    {
      "cell_type": "markdown",
      "source": [
        "# playing with word vectors :)\n",
        "\n",
        "[fasttext unsupervised](https://fasttext.cc/docs/en/python-module.html#train_unsupervised-parameters)\n",
        "\n",
        "[how to use](https://fasttext.cc/docs/en/python-module.html#usage-overview)"
      ],
      "metadata": {
        "id": "FgOXK255Y3zN"
      }
    },
    {
      "cell_type": "code",
      "source": [
        "with open('fasttext_unsupervised', 'w', encoding='utf-8') as out_file:\n",
        "  for text in train_texts:\n",
        "    out_file.write(text+\"\\n\")\n",
        "\n",
        "# train model and play with it :))"
      ],
      "metadata": {
        "id": "_7S4Ymc_ZFN2"
      },
      "execution_count": null,
      "outputs": []
    },
    {
      "cell_type": "markdown",
      "source": [
        "# Model Train"
      ],
      "metadata": {
        "id": "Ujd_kjEJu0nF"
      }
    },
    {
      "cell_type": "code",
      "source": [
        "# YOUR CODE GOES HERE! :D"
      ],
      "metadata": {
        "id": "ZfmKVkqSuyBh"
      },
      "execution_count": null,
      "outputs": []
    },
    {
      "cell_type": "code",
      "source": [
        "y_train_pred = ... # prediction of model as numpy array\n",
        "y_test_pred = ... # prediction of model as numpy array"
      ],
      "metadata": {
        "id": "05bijrAyu9XT"
      },
      "execution_count": null,
      "outputs": []
    },
    {
      "cell_type": "markdown",
      "source": [
        "# Evaluate Model"
      ],
      "metadata": {
        "id": "-Ui5_0y_u6f7"
      }
    },
    {
      "cell_type": "code",
      "source": [
        "metrics_train = get_metrics( y_train, y_train_pred )\n",
        "metrics_test = get_metrics( y_test, y_test_pred )\n",
        "#\n",
        "print(metrics_train)\n",
        "print(metrics_test)"
      ],
      "metadata": {
        "id": "jWn6JpWru55Y"
      },
      "execution_count": null,
      "outputs": []
    }
  ]
}